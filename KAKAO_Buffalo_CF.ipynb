{
  "nbformat": 4,
  "nbformat_minor": 0,
  "metadata": {
    "colab": {
      "name": "KAKAO_Buffalo_CF.ipynb",
      "provenance": [],
      "machine_shape": "hm",
      "include_colab_link": true
    },
    "kernelspec": {
      "name": "python3",
      "display_name": "Python 3"
    },
    "accelerator": "GPU"
  },
  "cells": [
    {
      "cell_type": "markdown",
      "metadata": {
        "id": "view-in-github",
        "colab_type": "text"
      },
      "source": [
        "<a href=\"https://colab.research.google.com/github/gatherheart/Recommendation_With_Buffalo/blob/main/KAKAO_Buffalo_CF.ipynb\" target=\"_parent\"><img src=\"https://colab.research.google.com/assets/colab-badge.svg\" alt=\"Open In Colab\"/></a>"
      ]
    },
    {
      "cell_type": "code",
      "metadata": {
        "id": "TlHyfqVx_mgK",
        "outputId": "cf40c02e-2d3d-403e-de1a-2c5421faee32",
        "colab": {
          "base_uri": "https://localhost:8080/"
        }
      },
      "source": [
        "!pip install cython\n",
        "!pip install n2\n",
        "!pip install buffalo"
      ],
      "execution_count": null,
      "outputs": [
        {
          "output_type": "stream",
          "text": [
            "Requirement already satisfied: cython in /usr/local/lib/python3.6/dist-packages (0.29.21)\n",
            "Collecting n2\n",
            "\u001b[?25l  Downloading https://files.pythonhosted.org/packages/d6/cb/103c5a332e528940a8096bf34c914e26f90dc52d5998d32fad135f21b944/n2-0.1.7.tar.gz (8.6MB)\n",
            "\u001b[K     |████████████████████████████████| 8.6MB 5.8MB/s \n",
            "\u001b[?25hRequirement already satisfied: cython in /usr/local/lib/python3.6/dist-packages (from n2) (0.29.21)\n",
            "Building wheels for collected packages: n2\n",
            "  Building wheel for n2 (setup.py) ... \u001b[?25l\u001b[?25hdone\n",
            "  Created wheel for n2: filename=n2-0.1.7-cp36-cp36m-linux_x86_64.whl size=2311625 sha256=bbb519071692bf1dd970159e1ada26a44dd3ad635e11cfa515e5c9839cea8065\n",
            "  Stored in directory: /root/.cache/pip/wheels/a9/ae/b5/1116339d5b0cd43dd677840e5f9553c9fd73da9a41fb4e2bd7\n",
            "Successfully built n2\n",
            "Installing collected packages: n2\n",
            "Successfully installed n2-0.1.7\n",
            "Collecting buffalo\n",
            "\u001b[?25l  Downloading https://files.pythonhosted.org/packages/99/45/de4e52988fc9c6f3b3a09d902c41fb130fb058d8e71743d161d6153ab6d7/buffalo-1.2.0.tar.gz (2.6MB)\n",
            "\u001b[K     |████████████████████████████████| 2.6MB 9.0MB/s \n",
            "\u001b[?25hBuilding wheels for collected packages: buffalo\n",
            "  Building wheel for buffalo (setup.py) ... \u001b[?25l\u001b[?25hdone\n",
            "  Created wheel for buffalo: filename=buffalo-1.2.0-cp36-cp36m-linux_x86_64.whl size=8526301 sha256=c74f6972d27c890c8dcdfca866218ec92bcc446b9c57636884c8b95f0d2a3548\n",
            "  Stored in directory: /root/.cache/pip/wheels/c1/b3/2e/afd93810d8689bd04e260a1d7ec98375da8e7c8ec5f6269e4b\n",
            "Successfully built buffalo\n",
            "Installing collected packages: buffalo\n",
            "Successfully installed buffalo-1.2.0\n"
          ],
          "name": "stdout"
        }
      ]
    },
    {
      "cell_type": "code",
      "metadata": {
        "id": "Ei-dNM5KKY-u",
        "outputId": "afd8bd09-0a51-4f42-a6ad-2abead0193bf",
        "colab": {
          "base_uri": "https://localhost:8080/"
        }
      },
      "source": [
        "!mkdir data\n",
        "!wget -q http://www.grouplens.org/system/files/ml-1m.zip ./data\n",
        "!unzip -o ml-1m -d data"
      ],
      "execution_count": null,
      "outputs": [
        {
          "output_type": "stream",
          "text": [
            "Archive:  ml-1m.zip\n",
            "   creating: data/ml-1m/\n",
            "  inflating: data/ml-1m/movies.dat   \n",
            "  inflating: data/ml-1m/ratings.dat  \n",
            "  inflating: data/ml-1m/README       \n",
            "  inflating: data/ml-1m/users.dat    \n"
          ],
          "name": "stdout"
        }
      ]
    },
    {
      "cell_type": "code",
      "metadata": {
        "id": "pLs0C_5eNcX6"
      },
      "source": [
        "import numpy as np\n",
        "import pandas as pd\n",
        "from scipy.io import mmwrite\n",
        "from scipy.io import mmread\n",
        "from scipy.sparse import csr_matrix"
      ],
      "execution_count": null,
      "outputs": []
    },
    {
      "cell_type": "code",
      "metadata": {
        "id": "CjRHTmPgPMr4"
      },
      "source": [
        "ratings = pd.read_csv(\"data/ml-1m/ratings.dat\", header=None, sep=\"::\", engine='python')\n",
        "ratings.columns = [\"uid\", \"iid\", \"rating\", \"timestamp\"]"
      ],
      "execution_count": 22,
      "outputs": []
    },
    {
      "cell_type": "code",
      "metadata": {
        "id": "QWJrYXmePPbq"
      },
      "source": [
        "movies = pd.read_csv('data/ml-1m/movies.dat', header=None, sep=\"::\", engine='python')\n",
        "movies.columns = ['iid', 'movie_name', 'genre']"
      ],
      "execution_count": 23,
      "outputs": []
    },
    {
      "cell_type": "code",
      "metadata": {
        "id": "l6YVlkDrPScv"
      },
      "source": [
        "def parse_moviename(movie_name):\n",
        "    return movie_name.replace(' ', '_').encode('utf-8').decode('ascii', 'ignore')"
      ],
      "execution_count": 24,
      "outputs": []
    },
    {
      "cell_type": "code",
      "metadata": {
        "id": "Yd88JOG0PWDI"
      },
      "source": [
        "iid_to_movie_name = dict(zip(movies.iid.tolist(), movies.movie_name.tolist()))\n",
        "iid_to_movie_name = {iid: parse_moviename(movie_name) for (iid, movie_name) in iid_to_movie_name.items()}"
      ],
      "execution_count": 25,
      "outputs": []
    },
    {
      "cell_type": "code",
      "metadata": {
        "id": "KRqe6sBaPaIH"
      },
      "source": [
        "uid_to_idx = {uid: idx for (idx, uid) in enumerate(ratings.uid.unique().tolist())}\n",
        "iid_to_idx = {iid: idx for (idx, iid) in enumerate(ratings.iid.unique().tolist())}\n",
        "idx_to_movie_name = {idx:iid_to_movie_name[iid] for (iid, idx) in iid_to_idx.items()}"
      ],
      "execution_count": 26,
      "outputs": []
    },
    {
      "cell_type": "code",
      "metadata": {
        "id": "LY-sfMzzPdrM",
        "outputId": "b8f38a79-1e81-4f11-9e6f-e69178956ff6",
        "colab": {
          "base_uri": "https://localhost:8080/"
        }
      },
      "source": [
        "print(\"Examples of movie names\\n\")\n",
        "\n",
        "for i in range(30, 35):\n",
        "    print(\"[index %d] movie_name: %s\" % (i, idx_to_movie_name[i]))"
      ],
      "execution_count": 27,
      "outputs": [
        {
          "output_type": "stream",
          "text": [
            "Examples of movie names\n",
            "\n",
            "[index 30] movie_name: Antz_(1998)\n",
            "[index 31] movie_name: Girl,_Interrupted_(1999)\n",
            "[index 32] movie_name: Hercules_(1997)\n",
            "[index 33] movie_name: Aladdin_(1992)\n",
            "[index 34] movie_name: Mulan_(1998)\n"
          ],
          "name": "stdout"
        }
      ]
    },
    {
      "cell_type": "code",
      "metadata": {
        "id": "v6yUysEXPfv5"
      },
      "source": [
        "row, col, dat = ratings.uid.tolist(), ratings.iid.tolist(), ratings.rating.tolist()\n",
        "row = [uid_to_idx[r] for r in row]\n",
        "col = [iid_to_idx[c] for c in col]"
      ],
      "execution_count": 28,
      "outputs": []
    },
    {
      "cell_type": "code",
      "metadata": {
        "id": "njV0O-sSPiwe",
        "outputId": "5d15864e-9adc-4fe9-9bdc-f8c17beecca2",
        "colab": {
          "base_uri": "https://localhost:8080/"
        }
      },
      "source": [
        "train_matrix = csr_matrix((dat, (row,col)), shape=(1 + np.max(row), 1 + np.max(col)))\n",
        "print(train_matrix.shape)"
      ],
      "execution_count": 29,
      "outputs": [
        {
          "output_type": "stream",
          "text": [
            "(6040, 3706)\n"
          ],
          "name": "stdout"
        }
      ]
    },
    {
      "cell_type": "code",
      "metadata": {
        "id": "XhkmyD8KPmEk"
      },
      "source": [
        "mmwrite('data/ml-1m/main', train_matrix)"
      ],
      "execution_count": 30,
      "outputs": []
    },
    {
      "cell_type": "code",
      "metadata": {
        "id": "2VhsLEg5Poy5"
      },
      "source": [
        "with open(\"data/ml-1m/uid\", \"w\") as f:\n",
        "    for uid in uid_to_idx:\n",
        "        print(uid, file=f)\n",
        "\n",
        "with open(\"data/ml-1m/iid\", \"w\") as f:\n",
        "    for iid, movie_name in idx_to_movie_name.items():\n",
        "        print(movie_name, file=f)"
      ],
      "execution_count": 31,
      "outputs": []
    },
    {
      "cell_type": "code",
      "metadata": {
        "id": "ZhBYsCS8PuL_"
      },
      "source": [
        "ratings_as_list = ratings.sort_values(by='timestamp').groupby('uid').iid.apply(list).reset_index()\n",
        "uid = ratings_as_list.uid.tolist()\n",
        "seen_iids = ratings_as_list.iid.tolist()"
      ],
      "execution_count": 32,
      "outputs": []
    },
    {
      "cell_type": "code",
      "metadata": {
        "id": "cyon33q1Pvh_"
      },
      "source": [
        "seen_iids = [' '.join([iid_to_movie_name[iid] for iid in iids]) for iids in seen_iids]"
      ],
      "execution_count": 33,
      "outputs": []
    },
    {
      "cell_type": "code",
      "metadata": {
        "id": "6rOm8E-uPxuF",
        "outputId": "259f4119-ff8e-4e90-a19f-df16dc21d443",
        "colab": {
          "base_uri": "https://localhost:8080/"
        }
      },
      "source": [
        "print(seen_iids[0])"
      ],
      "execution_count": 34,
      "outputs": [
        {
          "output_type": "stream",
          "text": [
            "Girl,_Interrupted_(1999) Titanic_(1997) Back_to_the_Future_(1985) Cinderella_(1950) Meet_Joe_Black_(1998) Last_Days_of_Disco,_The_(1998) Erin_Brockovich_(2000) To_Kill_a_Mockingbird_(1962) Christmas_Story,_A_(1983) Star_Wars:_Episode_IV_-_A_New_Hope_(1977) Wallace_&_Gromit:_The_Best_of_Aardman_Animation_(1996) One_Flew_Over_the_Cuckoo's_Nest_(1975) Wizard_of_Oz,_The_(1939) Fargo_(1996) Run_Lola_Run_(Lola_rennt)_(1998) Rain_Man_(1988) Saving_Private_Ryan_(1998) Awakenings_(1990) Gigi_(1958) Sound_of_Music,_The_(1965) Driving_Miss_Daisy_(1989) Mary_Poppins_(1964) Bambi_(1942) Apollo_13_(1995) E.T._the_Extra-Terrestrial_(1982) My_Fair_Lady_(1964) Ben-Hur_(1959) Big_(1988) Dead_Poets_Society_(1989) Sixth_Sense,_The_(1999) James_and_the_Giant_Peach_(1996) Ferris_Bueller's_Day_Off_(1986) Secret_Garden,_The_(1993) Toy_Story_2_(1999) Airplane!_(1980) Dumbo_(1941) Pleasantville_(1998) Princess_Bride,_The_(1987) Snow_White_and_the_Seven_Dwarfs_(1937) Miracle_on_34th_Street_(1947) Ponette_(1996) Schindler's_List_(1993) Close_Shave,_A_(1995) Beauty_and_the_Beast_(1991) Aladdin_(1992) Toy_Story_(1995) Tarzan_(1999) Hunchback_of_Notre_Dame,_The_(1996) Antz_(1998) Bug's_Life,_A_(1998) Mulan_(1998) Hercules_(1997) Pocahontas_(1995)\n"
          ],
          "name": "stdout"
        }
      ]
    },
    {
      "cell_type": "code",
      "metadata": {
        "id": "WhkVTvfmPz8u"
      },
      "source": [
        "with open(\"data/ml-1m/stream\", \"w\") as f:\n",
        "    for iid_list in seen_iids:\n",
        "        print(iid_list, file=f)"
      ],
      "execution_count": 35,
      "outputs": []
    },
    {
      "cell_type": "code",
      "metadata": {
        "id": "zC-0cOEr_zKg"
      },
      "source": [
        "from buffalo.algo.als import ALS\n",
        "from buffalo.algo.bpr import BPRMF\n",
        "from buffalo.misc import aux, log\n",
        "from buffalo.algo.options import ALSOption, BPRMFOption\n",
        "import buffalo.data\n",
        "from buffalo.data.mm import MatrixMarketOptions\n",
        "\n",
        "log.set_log_level(1) # set log level 3 or higher to check more information"
      ],
      "execution_count": null,
      "outputs": []
    },
    {
      "cell_type": "code",
      "metadata": {
        "id": "LmD63ChtEtY1"
      },
      "source": [
        "MODEL_TO_USE = \"ALS\"\n",
        "MODEL_TO_USE = \"BPR\"# un-comment this if you want to use BPR"
      ],
      "execution_count": null,
      "outputs": []
    },
    {
      "cell_type": "code",
      "metadata": {
        "id": "8Uot6d-sExks"
      },
      "source": [
        "if MODEL_TO_USE == \"ALS\":\n",
        "    opt = ALSOption().get_default_option()  \n",
        "elif MODEL_TO_USE == \"BPR\":\n",
        "    opt = BPRMFOption().get_default_option()"
      ],
      "execution_count": null,
      "outputs": []
    },
    {
      "cell_type": "code",
      "metadata": {
        "id": "vyUS0Tl4E0lv"
      },
      "source": [
        "opt.evaluation_on_learning =  True\n",
        "opt.validation = aux.Option({'topk': 10})"
      ],
      "execution_count": null,
      "outputs": []
    },
    {
      "cell_type": "code",
      "metadata": {
        "id": "TR2lQ1vhE39M",
        "outputId": "4a922808-457c-4548-b246-08809a19ca37",
        "colab": {
          "base_uri": "https://localhost:8080/"
        }
      },
      "source": [
        "opt"
      ],
      "execution_count": null,
      "outputs": [
        {
          "output_type": "execute_result",
          "data": {
            "text/plain": [
              "{'accelerator': False,\n",
              " 'beta1': 0.9,\n",
              " 'beta2': 0.999,\n",
              " 'compute_loss_on_training': True,\n",
              " 'd': 20,\n",
              " 'data_opt': {},\n",
              " 'early_stopping_rounds': 0,\n",
              " 'eps': 1e-10,\n",
              " 'evaluation_on_learning': True,\n",
              " 'evaluation_period': 100,\n",
              " 'hyper_threads': 256,\n",
              " 'lr': 0.002,\n",
              " 'min_lr': 0.0001,\n",
              " 'model_path': '',\n",
              " 'num_iters': 100,\n",
              " 'num_negative_samples': 1,\n",
              " 'num_workers': 1,\n",
              " 'optimizer': 'sgd',\n",
              " 'per_coordinate_normalize': False,\n",
              " 'random_positive': False,\n",
              " 'random_seed': 0,\n",
              " 'reg_b': 0.025,\n",
              " 'reg_i': 0.025,\n",
              " 'reg_j': 0.025,\n",
              " 'reg_u': 0.025,\n",
              " 'sampling_power': 0.0,\n",
              " 'save_best': False,\n",
              " 'save_period': 10,\n",
              " 'update_i': True,\n",
              " 'update_j': True,\n",
              " 'use_bias': True,\n",
              " 'validation': {'topk': 10},\n",
              " 'verify_neg': True}"
            ]
          },
          "metadata": {
            "tags": []
          },
          "execution_count": 7
        }
      ]
    },
    {
      "cell_type": "code",
      "metadata": {
        "id": "O_AkvndPE5TS"
      },
      "source": [
        "data_opt = MatrixMarketOptions().get_default_option()"
      ],
      "execution_count": null,
      "outputs": []
    },
    {
      "cell_type": "code",
      "metadata": {
        "id": "bWAEzU5yJbBW"
      },
      "source": [
        "data_opt.input.main = 'data/ml-1m/main.mtx'"
      ],
      "execution_count": null,
      "outputs": []
    },
    {
      "cell_type": "code",
      "metadata": {
        "id": "rNvnLFUfJdK-"
      },
      "source": [
        "data_opt.input.iid = 'data/ml-1m/iid'\n",
        "data_opt.input.uid = 'data/ml-1m/uid'"
      ],
      "execution_count": null,
      "outputs": []
    },
    {
      "cell_type": "code",
      "metadata": {
        "id": "pFt_F1d2JgQO",
        "outputId": "33731786-3ef2-4340-817b-4be554e909ff",
        "colab": {
          "base_uri": "https://localhost:8080/"
        }
      },
      "source": [
        "data_opt"
      ],
      "execution_count": null,
      "outputs": [
        {
          "output_type": "execute_result",
          "data": {
            "text/plain": [
              "{'data': {'batch_mb': 1024,\n",
              "  'internal_data_type': 'matrix',\n",
              "  'path': './mm.h5py',\n",
              "  'tmp_dir': '/tmp/',\n",
              "  'use_cache': False,\n",
              "  'validation': {'max_samples': 500, 'name': 'sample', 'p': 0.01}},\n",
              " 'input': {'iid': 'data/ml-1m/iid',\n",
              "  'main': 'data/ml-1m/main.mtx',\n",
              "  'uid': 'data/ml-1m/uid'},\n",
              " 'type': 'matrix_market'}"
            ]
          },
          "metadata": {
            "tags": []
          },
          "execution_count": 11
        }
      ]
    },
    {
      "cell_type": "code",
      "metadata": {
        "id": "WV4EfeM9JhoG"
      },
      "source": [
        "data = buffalo.data.load(data_opt)\n",
        "data.create()"
      ],
      "execution_count": 36,
      "outputs": []
    },
    {
      "cell_type": "code",
      "metadata": {
        "id": "wq-6ZfJ9Jl3O"
      },
      "source": [
        "if MODEL_TO_USE == \"ALS\":\n",
        "    model = ALS(opt, data=data)\n",
        "elif MODEL_TO_USE == \"BPR\":\n",
        "    model = BPRMF(opt, data=data)\n",
        "model.initialize()"
      ],
      "execution_count": 37,
      "outputs": []
    },
    {
      "cell_type": "code",
      "metadata": {
        "id": "uOM8X3-WS50-"
      },
      "source": [
        ""
      ],
      "execution_count": null,
      "outputs": []
    }
  ]
}